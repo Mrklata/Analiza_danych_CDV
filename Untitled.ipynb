{
 "cells": [
  {
   "cell_type": "code",
   "execution_count": 85,
   "id": "professional-villa",
   "metadata": {},
   "outputs": [],
   "source": [
    "import pandas as pd\n",
    "import numpy as np\n",
    "from matplotlib import pyplot as plt\n",
    "import statistics\n",
    "from scipy.stats import ttest_ind, kstest\n",
    "import seaborn as sns\n",
    "from sklearn import datasets, linear_model\n"
   ]
  },
  {
   "cell_type": "code",
   "execution_count": 7,
   "id": "accurate-wiring",
   "metadata": {},
   "outputs": [],
   "source": [
    "xlsx = pd.ExcelFile('analiza.xlsx')"
   ]
  },
  {
   "cell_type": "markdown",
   "id": "dated-variation",
   "metadata": {},
   "source": []
  },
  {
   "cell_type": "code",
   "execution_count": 8,
   "id": "certified-sessions",
   "metadata": {},
   "outputs": [],
   "source": [
    "df1 = pd.read_excel(xlsx, 'bezrobocie') \n",
    "df2 = pd.read_excel(xlsx, 'placa_min') \n",
    "df3 = pd.read_excel(xlsx, 'paliwko') \n",
    "df4 = pd.read_excel(xlsx, 'mieszkanie ') \n",
    "df5 = pd.read_excel(xlsx, 'chleb')\n",
    "\n"
   ]
  },
  {
   "cell_type": "code",
   "execution_count": 9,
   "id": "sticky-major",
   "metadata": {},
   "outputs": [],
   "source": [
    "df1.name = 'stopa bezrobocia'\n",
    "df2.name = 'płaca minimalna'\n",
    "df3.name = 'ceny paliw'\n",
    "df4.name = 'ceny mieszkań'\n",
    "df5.name = 'ceny art. gosp.'\n",
    "df1.index = [df1[df1.columns[0]]]\n",
    "df2.index = [df2[df2.columns[0]]]\n",
    "df3.index = [df3[df3.columns[0]]]\n",
    "df4.index = [df4[df4.columns[0]]]\n",
    "df5.index = [df5[df5.columns[0]]]\n",
    "del df1[df1.columns[0]]\n",
    "del df2[df2.columns[0]]\n",
    "del df3[df3.columns[0]]\n",
    "del df4[df4.columns[0]]\n",
    "del df5[df5.columns[0]]"
   ]
  },
  {
   "cell_type": "code",
   "execution_count": 10,
   "id": "novel-issue",
   "metadata": {},
   "outputs": [],
   "source": [
    "# Wylicznie median\n",
    "\n",
    "# func for medians\n",
    "medians = []\n",
    "def median(row, df):\n",
    "    dict1 = {}\n",
    "    for i in range(row, len(df.columns)):\n",
    "        temp = []\n",
    "        temp = df[df.columns[i]].tolist()\n",
    "        temp = [x for x in temp if str(x) != 'nan']\n",
    "        median1 = statistics.median(temp)\n",
    "        dict1[df.columns[i]] = median1\n",
    "    medians.append(dict1)\n",
    "    \n",
    "# one column\n",
    "def median_one_column(num, df):\n",
    "    medians2 = {}\n",
    "    temp2 = df[df.columns[num]].tolist()\n",
    "    temp2 = [x for x in temp2 if str(x) != 'nan']\n",
    "    print(temp2)\n",
    "    var = statistics.median(temp2)\n",
    "    print(var)\n",
    "    dict2 = {}\n",
    "    dict2[f'{df.name}'] = var\n",
    "    print(dict2)\n",
    "    medians.append(dict2)\n"
   ]
  },
  {
   "cell_type": "code",
   "execution_count": 11,
   "id": "distant-garage",
   "metadata": {},
   "outputs": [
    {
     "name": "stdout",
     "output_type": "stream",
     "text": [
      "[2800.0, 2600.0, 2250.0, 2100.0, 2000.0, 1850.0, 1750.0, 1680.0, 1600.0, 1500.0, 1386.0, 1317.0, 1276.0, 1126.0, 936.0, 899.1, 849.0, 824.0, 800.0, 760.0, 700.0]\n",
      "1386.0\n",
      "{'płaca minimalna': 1386.0}\n",
      "[4.68, 4.55, 5.2, 5.07, 4.57, 4.67, 3.98, 4.57, 5.39, 5.52, 5.63, 4.73, 3.95, 3.56, 4.11, 3.61, 3.7, 3.4]\n",
      "4.57\n",
      "{'ceny paliw': 4.57}\n",
      "[7298, 7316, 7446, 7315, 7396, 7510, 7557, 7462, 7639, 7583, 7696, 7686, 7562, 7683, 7820, 7751, 7965, 8185, 8539, 8567, 8762]\n",
      "7639\n",
      "{'ceny mieszkań': 7639}\n"
     ]
    }
   ],
   "source": [
    "median(0, df5)\n",
    "median(0, df1)\n",
    "median_one_column(0, df2)\n",
    "median_one_column(0, df3)\n",
    "median_one_column(0, df4)"
   ]
  },
  {
   "cell_type": "code",
   "execution_count": 12,
   "id": "cultural-thursday",
   "metadata": {},
   "outputs": [
    {
     "name": "stdout",
     "output_type": "stream",
     "text": [
      "{'ryż': 3.825, 'bułka': 0.47, 'chleb': 2.05, 'mąka': 2.1500000000000004, 'ziemniaki': 1.3, 'masło': 4.225, 'jaja': 0.485}\n",
      "{'styczeń': 12.4, 'luty': 12.55, 'marzec': 12.25, 'kwiecień': 11.75, 'maj': 11.399999999999999, 'czerwiec': 11.149999999999999, 'lipiec': 11.1, 'sierpień': 11.100000000000001, 'wrzesień': 11.2, 'październik': 11.2, 'listopad': 11.3, 'grudzień': 11.4}\n",
      "{'płaca minimalna': 1386.0}\n",
      "{'ceny paliw': 4.57}\n",
      "{'ceny mieszkań': 7639}\n"
     ]
    }
   ],
   "source": [
    "# prezentacja median\n",
    "for i in medians:\n",
    "    print(i)"
   ]
  },
  {
   "cell_type": "code",
   "execution_count": 13,
   "id": "august-testimony",
   "metadata": {},
   "outputs": [],
   "source": [
    "# Średnia \n",
    "df1_mean = df1.mean(axis = 1, skipna = True, numeric_only = True)\n",
    "df2_mean = df2[df2.columns[0]].mean()\n",
    "df3_mean = df3[df3.columns[0]].mean()\n",
    "df4_mean = df4[df4.columns[0]].mean()\n",
    "df5_mean = df5.mean(axis = 1, skipna = True, numeric_only = True)"
   ]
  },
  {
   "cell_type": "code",
   "execution_count": 14,
   "id": "negative-bowling",
   "metadata": {},
   "outputs": [
    {
     "data": {
      "text/plain": [
       "rok/miesiąc\n",
       "2020            5.890909\n",
       "2019            5.433333\n",
       "2018            6.075000\n",
       "2017            7.275000\n",
       "2016            8.941667\n",
       "2015           10.483333\n",
       "2014           12.325000\n",
       "2013           13.533333\n",
       "2012           12.800000\n",
       "2011           12.391667\n",
       "2010           12.108333\n",
       "2009           10.966667\n",
       "2008            9.816667\n",
       "2007           12.691667\n",
       "2006           16.191667\n",
       "2005           18.191667\n",
       "dtype: float64"
      ]
     },
     "execution_count": 14,
     "metadata": {},
     "output_type": "execute_result"
    }
   ],
   "source": [
    "df1_mean\n"
   ]
  },
  {
   "cell_type": "code",
   "execution_count": 15,
   "id": "killing-november",
   "metadata": {},
   "outputs": [
    {
     "data": {
      "text/plain": [
       "1476.338095238095"
      ]
     },
     "execution_count": 15,
     "metadata": {},
     "output_type": "execute_result"
    }
   ],
   "source": [
    "df2_mean\n"
   ]
  },
  {
   "cell_type": "code",
   "execution_count": 16,
   "id": "democratic-infrared",
   "metadata": {},
   "outputs": [
    {
     "data": {
      "text/plain": [
       "4.493888888888889"
      ]
     },
     "execution_count": 16,
     "metadata": {},
     "output_type": "execute_result"
    }
   ],
   "source": [
    "df3_mean\n"
   ]
  },
  {
   "cell_type": "code",
   "execution_count": 17,
   "id": "reliable-chosen",
   "metadata": {},
   "outputs": [
    {
     "data": {
      "text/plain": [
       "7749.428571428572"
      ]
     },
     "execution_count": 17,
     "metadata": {},
     "output_type": "execute_result"
    }
   ],
   "source": [
    "df4_mean\n"
   ]
  },
  {
   "cell_type": "code",
   "execution_count": 18,
   "id": "designing-retail",
   "metadata": {},
   "outputs": [
    {
     "data": {
      "text/plain": [
       "Unnamed: 0\n",
       "2005          1.412857\n",
       "2006          1.521429\n",
       "2007          1.621429\n",
       "2008          1.712857\n",
       "2009          1.841429\n",
       "2010          1.971429\n",
       "2011          2.005714\n",
       "2012          2.082857\n",
       "2013          2.175714\n",
       "2014          2.232857\n",
       "2015          2.314286\n",
       "2016          2.330000\n",
       "2017          2.372857\n",
       "2018          2.428571\n",
       "2019          2.451429\n",
       "2020          2.497143\n",
       "dtype: float64"
      ]
     },
     "execution_count": 18,
     "metadata": {},
     "output_type": "execute_result"
    }
   ],
   "source": [
    "df5_mean"
   ]
  },
  {
   "cell_type": "code",
   "execution_count": 19,
   "id": "economic-cycle",
   "metadata": {},
   "outputs": [],
   "source": [
    "# max i min\n",
    "df1_max = df1.max(axis = 0)\n",
    "df1_min = df1.min(axis = 0)\n",
    "\n",
    "df2_max = df2.max(axis = 0)\n",
    "df2_min = df2.min(axis = 0)\n",
    "\n",
    "df3_max = df3.max(axis = 0)\n",
    "df3_min = df3.min(axis = 0)\n",
    "\n",
    "df4_max = df4.max(axis = 0)\n",
    "df4_min = df4.min(axis = 0)\n",
    "\n",
    "df5_max = df5.max(axis = 0)\n",
    "df5_min = df5.min(axis = 0)"
   ]
  },
  {
   "cell_type": "markdown",
   "id": "simple-natural",
   "metadata": {},
   "source": []
  },
  {
   "cell_type": "code",
   "execution_count": 20,
   "id": "foreign-persian",
   "metadata": {},
   "outputs": [],
   "source": [
    "# rozstęp\n",
    "df1_diff = df1_max - df1_min\n",
    "df2_diff = df2_max - df2_min\n",
    "df3_diff = df3_max - df3_min\n",
    "df4_diff = df4_max - df4_min\n",
    "df5_diff = df5_max - df5_min"
   ]
  },
  {
   "cell_type": "code",
   "execution_count": 21,
   "id": "covered-engagement",
   "metadata": {},
   "outputs": [],
   "source": [
    "# korelacja\n",
    "\n",
    "list1 = df1[df1.columns[0]].tolist()\n",
    "list2 = df2[df2.columns[0]].tolist()\n",
    "list3 = df3[df3.columns[0]].tolist()\n",
    "list4 = df4[df4.columns[0]].tolist()\n",
    "list5 = df5[df5.columns[0]].tolist()\n",
    "list1 = list1[:16]\n",
    "list2 = list2[:16]\n",
    "list3 = list3[:16]\n",
    "list4 = list4[:16]\n",
    "list5 = list5[:16]\n",
    "\n",
    "dict_corr = {\n",
    "    'płaca min': list2,\n",
    "    'stopa bezrobocia': list1,\n",
    "    'paliwo' : list3,\n",
    "    'mieszkania': list4,\n",
    "    'ceny art.gosp.' : list5\n",
    "}\n",
    "df_corr = pd.DataFrame(dict_corr)"
   ]
  },
  {
   "cell_type": "code",
   "execution_count": 22,
   "id": "unavailable-rover",
   "metadata": {},
   "outputs": [
    {
     "data": {
      "text/html": [
       "<div>\n",
       "<style scoped>\n",
       "    .dataframe tbody tr th:only-of-type {\n",
       "        vertical-align: middle;\n",
       "    }\n",
       "\n",
       "    .dataframe tbody tr th {\n",
       "        vertical-align: top;\n",
       "    }\n",
       "\n",
       "    .dataframe thead th {\n",
       "        text-align: right;\n",
       "    }\n",
       "</style>\n",
       "<table border=\"1\" class=\"dataframe\">\n",
       "  <thead>\n",
       "    <tr style=\"text-align: right;\">\n",
       "      <th></th>\n",
       "      <th>płaca min</th>\n",
       "      <th>stopa bezrobocia</th>\n",
       "      <th>paliwo</th>\n",
       "      <th>mieszkania</th>\n",
       "      <th>ceny art.gosp.</th>\n",
       "    </tr>\n",
       "  </thead>\n",
       "  <tbody>\n",
       "    <tr>\n",
       "      <th>płaca min</th>\n",
       "      <td>1.000000</td>\n",
       "      <td>-0.890068</td>\n",
       "      <td>0.360225</td>\n",
       "      <td>-0.923746</td>\n",
       "      <td>-0.930881</td>\n",
       "    </tr>\n",
       "    <tr>\n",
       "      <th>stopa bezrobocia</th>\n",
       "      <td>-0.890068</td>\n",
       "      <td>1.000000</td>\n",
       "      <td>-0.434989</td>\n",
       "      <td>0.833878</td>\n",
       "      <td>0.862818</td>\n",
       "    </tr>\n",
       "    <tr>\n",
       "      <th>paliwo</th>\n",
       "      <td>0.360225</td>\n",
       "      <td>-0.434989</td>\n",
       "      <td>1.000000</td>\n",
       "      <td>-0.246888</td>\n",
       "      <td>-0.215915</td>\n",
       "    </tr>\n",
       "    <tr>\n",
       "      <th>mieszkania</th>\n",
       "      <td>-0.923746</td>\n",
       "      <td>0.833878</td>\n",
       "      <td>-0.246888</td>\n",
       "      <td>1.000000</td>\n",
       "      <td>0.842602</td>\n",
       "    </tr>\n",
       "    <tr>\n",
       "      <th>ceny art.gosp.</th>\n",
       "      <td>-0.930881</td>\n",
       "      <td>0.862818</td>\n",
       "      <td>-0.215915</td>\n",
       "      <td>0.842602</td>\n",
       "      <td>1.000000</td>\n",
       "    </tr>\n",
       "  </tbody>\n",
       "</table>\n",
       "</div>"
      ],
      "text/plain": [
       "                  płaca min  stopa bezrobocia    paliwo  mieszkania  \\\n",
       "płaca min          1.000000         -0.890068  0.360225   -0.923746   \n",
       "stopa bezrobocia  -0.890068          1.000000 -0.434989    0.833878   \n",
       "paliwo             0.360225         -0.434989  1.000000   -0.246888   \n",
       "mieszkania        -0.923746          0.833878 -0.246888    1.000000   \n",
       "ceny art.gosp.    -0.930881          0.862818 -0.215915    0.842602   \n",
       "\n",
       "                  ceny art.gosp.  \n",
       "płaca min              -0.930881  \n",
       "stopa bezrobocia        0.862818  \n",
       "paliwo                 -0.215915  \n",
       "mieszkania              0.842602  \n",
       "ceny art.gosp.          1.000000  "
      ]
     },
     "execution_count": 22,
     "metadata": {},
     "output_type": "execute_result"
    }
   ],
   "source": [
    "df_corr.corr()\n"
   ]
  },
  {
   "cell_type": "code",
   "execution_count": 23,
   "id": "governing-forty",
   "metadata": {},
   "outputs": [],
   "source": [
    "# test t-studenta\n",
    "data_t = [list1, list2, list3, list4, list5]\n",
    "data_t_reverse = data_t[::-1]\n",
    "results_t = []\n",
    "for i in data_t:\n",
    "    for n in data_t_reverse:\n",
    "        x = ttest_ind(i, n)\n",
    "        results_t.append(x)"
   ]
  },
  {
   "cell_type": "raw",
   "id": "conservative-milan",
   "metadata": {},
   "source": []
  },
  {
   "cell_type": "code",
   "execution_count": 24,
   "id": "helpful-patient",
   "metadata": {},
   "outputs": [
    {
     "data": {
      "text/plain": [
       "[Ttest_indResult(statistic=8.36166684919654, pvalue=2.4764777105358965e-09),\n",
       " Ttest_indResult(statistic=-185.17115399602878, pvalue=1.9224748123194774e-47),\n",
       " Ttest_indResult(statistic=7.294187783653884, pvalue=4.01848257159719e-08),\n",
       " Ttest_indResult(statistic=-12.099488599948282, pvalue=4.5386565417813454e-13),\n",
       " Ttest_indResult(statistic=0.0, pvalue=1.0),\n",
       " Ttest_indResult(statistic=12.159693223171379, pvalue=4.0075017869070065e-13),\n",
       " Ttest_indResult(statistic=-40.45669424755187, pvalue=9.822940520398497e-28),\n",
       " Ttest_indResult(statistic=12.152414315949205, pvalue=4.068172464823772e-13),\n",
       " Ttest_indResult(statistic=0.0, pvalue=1.0),\n",
       " Ttest_indResult(statistic=12.099488599948282, pvalue=4.5386565417813454e-13),\n",
       " Ttest_indResult(statistic=5.186172393279054, pvalue=1.3770168262271555e-05),\n",
       " Ttest_indResult(statistic=-185.40406273753763, pvalue=1.8513865627474048e-47),\n",
       " Ttest_indResult(statistic=0.0, pvalue=1.0),\n",
       " Ttest_indResult(statistic=-12.152414315949205, pvalue=4.068172464823772e-13),\n",
       " Ttest_indResult(statistic=-7.294187783653884, pvalue=4.01848257159719e-08),\n",
       " Ttest_indResult(statistic=185.42969084004432, pvalue=1.8437320201334726e-47),\n",
       " Ttest_indResult(statistic=0.0, pvalue=1.0),\n",
       " Ttest_indResult(statistic=185.40406273753763, pvalue=1.8513865627474048e-47),\n",
       " Ttest_indResult(statistic=40.45669424755187, pvalue=9.822940520398497e-28),\n",
       " Ttest_indResult(statistic=185.17115399602878, pvalue=1.9224748123194774e-47),\n",
       " Ttest_indResult(statistic=0.0, pvalue=1.0),\n",
       " Ttest_indResult(statistic=-185.42969084004432, pvalue=1.8437320201334726e-47),\n",
       " Ttest_indResult(statistic=-5.186172393279054, pvalue=1.3770168262271555e-05),\n",
       " Ttest_indResult(statistic=-12.159693223171379, pvalue=4.0075017869070065e-13),\n",
       " Ttest_indResult(statistic=-8.36166684919654, pvalue=2.4764777105358965e-09)]"
      ]
     },
     "execution_count": 24,
     "metadata": {},
     "output_type": "execute_result"
    }
   ],
   "source": [
    "results_t"
   ]
  },
  {
   "cell_type": "code",
   "execution_count": 34,
   "id": "caroline-melbourne",
   "metadata": {},
   "outputs": [
    {
     "data": {
      "image/png": "[encoded data removed]",
      "text/plain": [
       "<Figure size 360x360 with 1 Axes>"
      ]
     },
     "metadata": {
      "needs_background": "light"
     },
     "output_type": "display_data"
    }
   ],
   "source": [
    "# analiza skupienia\n",
    "\n",
    "df_skp = df_corr \n",
    "sns.lmplot(data=df_skp, x=df_skp.columns[0], y=df_skp.columns[1], fit_reg=False, scatter_kws={\"color\": \"#eb6c6a\"}).set(title = 'Wykres punktowy zbioru')\n",
    "plt.show()\n"
   ]
  },
  {
   "cell_type": "code",
   "execution_count": 35,
   "id": "passing-longitude",
   "metadata": {},
   "outputs": [
    {
     "data": {
      "image/png": "[encoded data removed]",
      "text/plain": [
       "<Figure size 360x360 with 1 Axes>"
      ]
     },
     "metadata": {
      "needs_background": "light"
     },
     "output_type": "display_data"
    }
   ],
   "source": [
    "sns.lmplot(data=df_skp, x=df_skp.columns[0], y=df_skp.columns[2], fit_reg=False, scatter_kws={\"color\": \"#eb6c6a\"}).set(title = 'Wykres punktowy zbioru')\n",
    "plt.show()"
   ]
  },
  {
   "cell_type": "code",
   "execution_count": 36,
   "id": "previous-daily",
   "metadata": {},
   "outputs": [
    {
     "data": {
      "image/png": "[encoded data removed]",
      "text/plain": [
       "<Figure size 360x360 with 1 Axes>"
      ]
     },
     "metadata": {
      "needs_background": "light"
     },
     "output_type": "display_data"
    }
   ],
   "source": [
    "sns.lmplot(data=df_skp, x=df_skp.columns[0], y=df_skp.columns[3], fit_reg=False, scatter_kws={\"color\": \"#eb6c6a\"}).set(title = 'Wykres punktowy zbioru')\n",
    "plt.show()"
   ]
  },
  {
   "cell_type": "code",
   "execution_count": 37,
   "id": "abstract-patrick",
   "metadata": {},
   "outputs": [
    {
     "data": {
      "image/png": "[encoded data removed]",
      "text/plain": [
       "<Figure size 360x360 with 1 Axes>"
      ]
     },
     "metadata": {
      "needs_background": "light"
     },
     "output_type": "display_data"
    }
   ],
   "source": [
    "sns.lmplot(data=df_skp, x=df_skp.columns[0], y=df_skp.columns[4], fit_reg=False, scatter_kws={\"color\": \"#eb6c6a\"}).set(title = 'Wykres punktowy zbioru')\n",
    "plt.show()"
   ]
  },
  {
   "cell_type": "code",
   "execution_count": 73,
   "id": "respected-burning",
   "metadata": {},
   "outputs": [
    {
     "data": {
      "image/png": "[encoded data removed]",
      "text/plain": [
       "<Figure size 432x288 with 1 Axes>"
      ]
     },
     "metadata": {
      "needs_background": "light"
     },
     "output_type": "display_data"
    }
   ],
   "source": [
    "# analiza regresji\n",
    "dict_plac_art_mieszk = {\n",
    "    'placa min': list2,\n",
    "    'ceny art': list4,\n",
    "    'mieszkania': list5\n",
    "}\n",
    "\n",
    "df_plac_art_mieszkan = pd.DataFrame(dict_plac_art_mieszk)\n",
    "odchylenie_plac = statistics.stdev(list2)\n",
    "odchylenie_art_gosp = statistics.stdev(list5)\n",
    "odchylenie_mieszkan = statistics.stdev(list4)\n",
    "\n",
    "corr_plac_art_gosp =  0.930881\n",
    "corr_plac_mieszkan = 0.923746\n",
    "\n",
    "srednia_plac = statistics.mean(list2)\n",
    "srednia_art_gosp = statistics.mean(list5)\n",
    "srednia_mieszkan = statistics.mean(list4)\n",
    "\n",
    "b1 = corr_plac_art_gosp * (odchylenie_art_gosp/odchylenie_plac)\n",
    "a1 = srednia_art_gosp - (b1 * srednia_plac)\n",
    "\n",
    "b2 = corr_plac_mieszkan * (odchylenie_mieszkan/odchylenie_plac)\n",
    "a2 = srednia_mieszkan - (b2 * srednia_plac)\n",
    "\n",
    "def line(x, a, b):\n",
    "    return(b * x) + a\n",
    "\n",
    "plt.scatter(df_plac_art_mieszkan['placa min'], df_plac_art_mieszkan['ceny art'], label='placa min/ceny art')\n",
    "plt.plot(x, line(x, b1, a1), 'r', color = 'red', linewidth=3)\n",
    "plt.xlabel('placa min')\n",
    "plt.ylabel('ceny art gosp')\n",
    "plt.legend()\n",
    "plt.show()"
   ]
  },
  {
   "cell_type": "code",
   "execution_count": 96,
   "id": "nasty-appendix",
   "metadata": {},
   "outputs": [
    {
     "data": {
      "image/png": "[encoded data removed]",
      "text/plain": [
       "<Figure size 432x288 with 1 Axes>"
      ]
     },
     "metadata": {},
     "output_type": "display_data"
    }
   ],
   "source": [
    "length = 16\n",
    "x = np.arange(length, dtype=float).reshape((length, 1))\n",
    "y = x + (np.random.rand(length)*10).reshape((length, 1))\n",
    "\n",
    "x = np.array(list2)\n",
    "y = np.array(list4)\n",
    "z = np.array(list5)\n",
    "a = np.array(list1)\n",
    "\n",
    "x = x.reshape(length, 1)\n",
    "y = y.reshape(length, 1)\n",
    "z = z.reshape(length, 1)\n",
    "a = a.reshape(length, 1)\n",
    "\n",
    "regr = linear_model.LinearRegression()\n",
    "regr.fit(x, y)\n",
    "\n",
    "plt.scatter(x, y,  color='black')\n",
    "plt.plot(x, regr.predict(x), color='blue', linewidth=3)\n",
    "plt.xticks(())\n",
    "plt.yticks(())\n",
    "plt.show()\n"
   ]
  },
  {
   "cell_type": "code",
   "execution_count": 82,
   "id": "altered-token",
   "metadata": {},
   "outputs": [
    {
     "data": {
      "image/png": "[encoded data removed]",
      "text/plain": [
       "<Figure size 432x288 with 1 Axes>"
      ]
     },
     "metadata": {},
     "output_type": "display_data"
    }
   ],
   "source": []
  },
  {
   "cell_type": "code",
   "execution_count": 97,
   "id": "adapted-genetics",
   "metadata": {},
   "outputs": [
    {
     "data": {
      "image/png": "[encoded data removed]",
      "text/plain": [
       "<Figure size 432x288 with 1 Axes>"
      ]
     },
     "metadata": {},
     "output_type": "display_data"
    }
   ],
   "source": [
    "regr.fit(x, a)\n",
    "plt.scatter(x, a,  color='black')\n",
    "plt.plot(x, regr.predict(x), color='blue', linewidth=3)\n",
    "plt.xticks(())\n",
    "plt.yticks(())\n",
    "plt.show()"
   ]
  },
  {
   "cell_type": "code",
   "execution_count": 94,
   "id": "palestinian-aluminum",
   "metadata": {},
   "outputs": [
    {
     "data": {
      "text/plain": [
       "KstestResult(statistic=1.0, pvalue=0.0)"
      ]
     },
     "execution_count": 94,
     "metadata": {},
     "output_type": "execute_result"
    }
   ],
   "source": [
    "# Test Kołmogorowa-Smirnowa \n",
    "kstest(x, 'norm')"
   ]
  },
  {
   "cell_type": "code",
   "execution_count": 99,
   "id": "powered-master",
   "metadata": {},
   "outputs": [
    {
     "data": {
      "text/plain": [
       "KstestResult(statistic=1.0, pvalue=0.0)"
      ]
     },
     "execution_count": 99,
     "metadata": {},
     "output_type": "execute_result"
    }
   ],
   "source": [
    "kstest(y, 'norm')"
   ]
  },
  {
   "cell_type": "code",
   "execution_count": 100,
   "id": "christian-column",
   "metadata": {},
   "outputs": [
    {
     "data": {
      "text/plain": [
       "KstestResult(statistic=0.9999683287581669, pvalue=2.0496111488997776e-72)"
      ]
     },
     "execution_count": 100,
     "metadata": {},
     "output_type": "execute_result"
    }
   ],
   "source": [
    "kstest(z, 'norm')"
   ]
  },
  {
   "cell_type": "code",
   "execution_count": 101,
   "id": "steady-median",
   "metadata": {},
   "outputs": [
    {
     "data": {
      "text/plain": [
       "KstestResult(statistic=1.0, pvalue=0.0)"
      ]
     },
     "execution_count": 101,
     "metadata": {},
     "output_type": "execute_result"
    }
   ],
   "source": [
    "kstest(a, 'norm')"
   ]
  },
  {
   "cell_type": "code",
   "execution_count": 102,
   "id": "statutory-rolling",
   "metadata": {},
   "outputs": [
    {
     "data": {
      "text/plain": [
       "555.3688974831654"
      ]
     },
     "execution_count": 102,
     "metadata": {},
     "output_type": "execute_result"
    }
   ],
   "source": [
    "# odchylania standardowe\n",
    "odchylenie_plac"
   ]
  },
  {
   "cell_type": "code",
   "execution_count": 103,
   "id": "voluntary-diana",
   "metadata": {},
   "outputs": [
    {
     "data": {
      "text/plain": [
       "0.4359849959192021"
      ]
     },
     "execution_count": 103,
     "metadata": {},
     "output_type": "execute_result"
    }
   ],
   "source": [
    "odchylenie_art_gosp\n"
   ]
  },
  {
   "cell_type": "code",
   "execution_count": 104,
   "id": "insured-bolivia",
   "metadata": {},
   "outputs": [
    {
     "data": {
      "text/plain": [
       "162.67882468225545"
      ]
     },
     "execution_count": 104,
     "metadata": {},
     "output_type": "execute_result"
    }
   ],
   "source": [
    "odchylenie_mieszkan"
   ]
  },
  {
   "cell_type": "code",
   "execution_count": null,
   "id": "fitting-architect",
   "metadata": {},
   "outputs": [],
   "source": []
  }
 ],
 "metadata": {
  "kernelspec": {
   "display_name": "Python 3",
   "language": "python",
   "name": "python3"
  },
  "language_info": {
   "codemirror_mode": {
    "name": "ipython",
    "version": 3
   },
   "file_extension": ".py",
   "mimetype": "text/x-python",
   "name": "python",
   "nbconvert_exporter": "python",
   "pygments_lexer": "ipython3",
   "version": "3.8.5"
  }
 },
 "nbformat": 4,
 "nbformat_minor": 5
}
