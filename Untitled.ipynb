{
 "cells": [
  {
   "cell_type": "code",
   "execution_count": 64,
   "id": "professional-villa",
   "metadata": {},
   "outputs": [],
   "source": [
    "import pandas as pd\n",
    "import numpy as np\n",
    "import matplotlib as plt\n",
    "import statistics\n"
   ]
  },
  {
   "cell_type": "code",
   "execution_count": 237,
   "id": "expensive-migration",
   "metadata": {},
   "outputs": [],
   "source": [
    "xlsx = pd.ExcelFile('analiza.xlsx')"
   ]
  },
  {
   "cell_type": "markdown",
   "id": "twenty-commonwealth",
   "metadata": {},
   "source": []
  },
  {
   "cell_type": "code",
   "execution_count": 238,
   "id": "dried-restriction",
   "metadata": {},
   "outputs": [],
   "source": [
    "df1 = pd.read_excel(xlsx, 'bezrobocie') \n",
    "df2 = pd.read_excel(xlsx, 'placa_min') \n",
    "df3 = pd.read_excel(xlsx, 'paliwko') \n",
    "df4 = pd.read_excel(xlsx, 'mieszkanie ') \n",
    "df5 = pd.read_excel(xlsx, 'chleb')\n",
    "\n"
   ]
  },
  {
   "cell_type": "code",
   "execution_count": 239,
   "id": "introductory-rogers",
   "metadata": {},
   "outputs": [],
   "source": [
    "df1.name = 'stopa bezrobocia'\n",
    "df2.name = 'płaca minimalna'\n",
    "df3.name = 'ceny paliw'\n",
    "df4.name = 'ceny mieszkań'\n",
    "df5.name = 'ceny art. gosp.'\n",
    "df1.index = [df1[df1.columns[0]]]\n",
    "df2.index = [df2[df2.columns[0]]]\n",
    "df3.index = [df3[df3.columns[0]]]\n",
    "df4.index = [df4[df4.columns[0]]]\n",
    "df5.index = [df5[df5.columns[0]]]\n",
    "del df1[df1.columns[0]]\n",
    "del df2[df2.columns[0]]\n",
    "del df3[df3.columns[0]]\n",
    "del df4[df4.columns[0]]\n",
    "del df5[df5.columns[0]]"
   ]
  },
  {
   "cell_type": "code",
   "execution_count": 200,
   "id": "found-electric",
   "metadata": {},
   "outputs": [],
   "source": [
    "# Wylicznie median\n",
    "\n",
    "# func for medians\n",
    "medians = []\n",
    "def median(row, df):\n",
    "    dict1 = {}\n",
    "    for i in range(row, len(df.columns)):\n",
    "        temp = []\n",
    "        temp = df[df.columns[i]].tolist()\n",
    "        temp = [x for x in temp if str(x) != 'nan']\n",
    "        median1 = statistics.median(temp)\n",
    "        dict1[df.columns[i]] = median1\n",
    "    medians.append(dict1)\n",
    "    \n",
    "# one column\n",
    "def median_one_column(num, df):\n",
    "    medians2 = {}\n",
    "    temp2 = df[df.columns[num]].tolist()\n",
    "    temp2 = [x for x in temp2 if str(x) != 'nan']\n",
    "    print(temp2)\n",
    "    var = statistics.median(temp2)\n",
    "    print(var)\n",
    "    dict2 = {}\n",
    "    dict2[f'{df.name}'] = var\n",
    "    print(dict2)\n",
    "    medians.append(dict2)\n"
   ]
  },
  {
   "cell_type": "code",
   "execution_count": 240,
   "id": "optical-resort",
   "metadata": {},
   "outputs": [
    {
     "name": "stdout",
     "output_type": "stream",
     "text": [
      "[2800.0, 2600.0, 2250.0, 2100.0, 2000.0, 1850.0, 1750.0, 1680.0, 1600.0, 1500.0, 1386.0, 1317.0, 1276.0, 1126.0, 936.0, 899.1, 849.0, 824.0, 800.0, 760.0, 700.0]\n",
      "1386.0\n",
      "{'płaca minimalna': 1386.0}\n",
      "[4.68, 4.55, 5.2, 5.07, 4.57, 4.67, 3.98, 4.57, 5.39, 5.52, 5.63, 4.73, 3.95, 3.56, 4.11, 3.61, 3.7, 3.4]\n",
      "4.57\n",
      "{'ceny paliw': 4.57}\n",
      "[7298, 7316, 7446, 7315, 7396, 7510, 7557, 7462, 7639, 7583, 7696, 7686, 7562, 7683, 7820, 7751, 7965, 8185, 8539, 8567, 8762]\n",
      "7639\n",
      "{'ceny mieszkań': 7639}\n"
     ]
    }
   ],
   "source": [
    "median(0, df5)\n",
    "median(0, df1)\n",
    "median_one_column(0, df2)\n",
    "median_one_column(0, df3)\n",
    "median_one_column(0, df4)"
   ]
  },
  {
   "cell_type": "code",
   "execution_count": 241,
   "id": "photographic-scanning",
   "metadata": {},
   "outputs": [
    {
     "name": "stdout",
     "output_type": "stream",
     "text": [
      "{'ryż': 3.825, 'bułka': 0.47, 'chleb': 2.05, 'mąka': 2.1500000000000004, 'ziemniaki': 1.3, 'masło': 4.225, 'jaja': 0.485}\n",
      "{'styczeń': 12.9, 'luty': 13.2, 'marzec': 13.0, 'kwiecień': 12.4, 'maj': 12.1, 'czerwiec': 11.7, 'lipiec': 11.5, 'sierpień': 11.4, 'wrzesień': 11.5, 'październik': 11.3, 'listopad': 11.4, 'grudzień': 11.4}\n",
      "{'płaca minimalna': 1386.0}\n",
      "{'ceny paliw': 4.57}\n",
      "{'ceny mieszkań': 7639}\n",
      "{'ryż': 3.825, 'bułka': 0.47, 'chleb': 2.05, 'mąka': 2.1500000000000004, 'ziemniaki': 1.3, 'masło': 4.225, 'jaja': 0.485}\n",
      "{'styczeń': 12.4, 'luty': 12.55, 'marzec': 12.25, 'kwiecień': 11.75, 'maj': 11.399999999999999, 'czerwiec': 11.149999999999999, 'lipiec': 11.1, 'sierpień': 11.100000000000001, 'wrzesień': 11.2, 'październik': 11.2, 'listopad': 11.3, 'grudzień': 11.4}\n",
      "{'płaca minimalna': 1386.0}\n",
      "{'ceny paliw': 4.57}\n",
      "{'ceny mieszkań': 7639}\n"
     ]
    }
   ],
   "source": [
    "# prezentacja median\n",
    "for i in medians:\n",
    "    print(i)"
   ]
  },
  {
   "cell_type": "code",
   "execution_count": 242,
   "id": "historic-bachelor",
   "metadata": {},
   "outputs": [],
   "source": [
    "# Średnia \n",
    "df1_mean = df1.mean(axis = 1, skipna = True, numeric_only = True)\n",
    "df2_mean = df2.mean(axis = 1, skipna = True, numeric_only = True)\n",
    "df3_mean = df3.mean(axis = 1, skipna = True, numeric_only = True)\n",
    "df4_mean = df4.mean(axis = 1, skipna = True, numeric_only = True)\n",
    "df5_mean = df5.mean(axis = 1, skipna = True, numeric_only = True)"
   ]
  },
  {
   "cell_type": "code",
   "execution_count": 243,
   "id": "killing-arbitration",
   "metadata": {},
   "outputs": [
    {
     "data": {
      "text/plain": [
       "rok/miesiąc\n",
       "2020            5.890909\n",
       "2019            5.433333\n",
       "2018            6.075000\n",
       "2017            7.275000\n",
       "2016            8.941667\n",
       "2015           10.483333\n",
       "2014           12.325000\n",
       "2013           13.533333\n",
       "2012           12.800000\n",
       "2011           12.391667\n",
       "2010           12.108333\n",
       "2009           10.966667\n",
       "2008            9.816667\n",
       "2007           12.691667\n",
       "2006           16.191667\n",
       "2005           18.191667\n",
       "dtype: float64"
      ]
     },
     "execution_count": 243,
     "metadata": {},
     "output_type": "execute_result"
    }
   ],
   "source": [
    "df1_mean\n"
   ]
  },
  {
   "cell_type": "code",
   "execution_count": 244,
   "id": "brutal-laptop",
   "metadata": {},
   "outputs": [
    {
     "data": {
      "text/plain": [
       "x         \n",
       "2021-01-01    2800.0\n",
       "2020-01-01    2600.0\n",
       "2019-01-01    2250.0\n",
       "2018-01-01    2100.0\n",
       "2017-01-01    2000.0\n",
       "2016-01-01    1850.0\n",
       "2015-01-01    1750.0\n",
       "2014-01-01    1680.0\n",
       "2013-01-01    1600.0\n",
       "2012-01-01    1500.0\n",
       "2011-01-01    1386.0\n",
       "2010-01-01    1317.0\n",
       "2009-01-01    1276.0\n",
       "2008-01-01    1126.0\n",
       "2007-01-01     936.0\n",
       "2006-01-01     899.1\n",
       "2005-01-01     849.0\n",
       "2004-01-01     824.0\n",
       "2003-01-01     800.0\n",
       "2001-01-01     760.0\n",
       "2000-03-01     700.0\n",
       "dtype: float64"
      ]
     },
     "execution_count": 244,
     "metadata": {},
     "output_type": "execute_result"
    }
   ],
   "source": [
    "df2_mean\n"
   ]
  },
  {
   "cell_type": "code",
   "execution_count": 245,
   "id": "quarterly-catering",
   "metadata": {},
   "outputs": [
    {
     "data": {
      "text/plain": [
       "x                      \n",
       "2021-01-14 – 2021-01-21    4.68\n",
       "2020-12-31 – 2021-01-07    4.55\n",
       "2019-12-26 – 2020-01-02    5.20\n",
       "2018-12-27 – 2019-01-03    5.07\n",
       "2017-12-28 – 2018-01-04    4.57\n",
       "2016-12-29 – 2017-01-05    4.67\n",
       "2015-12-31 – 2016-01-07    3.98\n",
       "2014-12-26 – 2015-01-02    4.57\n",
       "2013-12-27 – 2014-01-03    5.39\n",
       "2012-12-28 – 2013-01-04    5.52\n",
       "2011-12-30 – 2012-01-06    5.63\n",
       "2010-12-29 – 2011-01-05    4.73\n",
       "2009-12-31 – 2010-01-07    3.95\n",
       "2008-12-11 – 2008-12-18    3.56\n",
       "2007-12-27 – 2008-01-03    4.11\n",
       "2006-12-28 – 2007-01-04    3.61\n",
       "2005-12-30 – 2006-01-06    3.70\n",
       "2004-12-30 – 2005-01-06    3.40\n",
       "dtype: float64"
      ]
     },
     "execution_count": 245,
     "metadata": {},
     "output_type": "execute_result"
    }
   ],
   "source": [
    "df3_mean\n"
   ]
  },
  {
   "cell_type": "code",
   "execution_count": 246,
   "id": "indonesian-encoding",
   "metadata": {},
   "outputs": [
    {
     "data": {
      "text/plain": [
       "x   \n",
       "2000    7298.0\n",
       "2001    7316.0\n",
       "2002    7446.0\n",
       "2003    7315.0\n",
       "2004    7396.0\n",
       "2005    7510.0\n",
       "2006    7557.0\n",
       "2007    7462.0\n",
       "2008    7639.0\n",
       "2009    7583.0\n",
       "2010    7696.0\n",
       "2011    7686.0\n",
       "2012    7562.0\n",
       "2013    7683.0\n",
       "2014    7820.0\n",
       "2015    7751.0\n",
       "2016    7965.0\n",
       "2017    8185.0\n",
       "2018    8539.0\n",
       "2019    8567.0\n",
       "2020    8762.0\n",
       "dtype: float64"
      ]
     },
     "execution_count": 246,
     "metadata": {},
     "output_type": "execute_result"
    }
   ],
   "source": [
    "df4_mean\n"
   ]
  },
  {
   "cell_type": "code",
   "execution_count": 247,
   "id": "realistic-forwarding",
   "metadata": {},
   "outputs": [
    {
     "data": {
      "text/plain": [
       "Unnamed: 0\n",
       "2005          1.412857\n",
       "2006          1.521429\n",
       "2007          1.621429\n",
       "2008          1.712857\n",
       "2009          1.841429\n",
       "2010          1.971429\n",
       "2011          2.005714\n",
       "2012          2.082857\n",
       "2013          2.175714\n",
       "2014          2.232857\n",
       "2015          2.314286\n",
       "2016          2.330000\n",
       "2017          2.372857\n",
       "2018          2.428571\n",
       "2019          2.451429\n",
       "2020          2.497143\n",
       "dtype: float64"
      ]
     },
     "execution_count": 247,
     "metadata": {},
     "output_type": "execute_result"
    }
   ],
   "source": [
    "df5_mean"
   ]
  },
  {
   "cell_type": "code",
   "execution_count": 248,
   "id": "greek-ecuador",
   "metadata": {},
   "outputs": [],
   "source": [
    "# max i min\n",
    "df1_max = df1.max(axis = 0)\n",
    "df1_min = df1.min(axis = 0)\n",
    "\n",
    "df2_max = df2.max(axis = 0)\n",
    "df2_min = df2.min(axis = 0)\n",
    "\n",
    "df3_max = df3.max(axis = 0)\n",
    "df3_min = df3.min(axis = 0)\n",
    "\n",
    "df4_max = df4.max(axis = 0)\n",
    "df4_min = df4.min(axis = 0)\n",
    "\n",
    "df5_max = df5.max(axis = 0)\n",
    "df5_min = df5.min(axis = 0)"
   ]
  },
  {
   "cell_type": "markdown",
   "id": "known-patrol",
   "metadata": {},
   "source": []
  },
  {
   "cell_type": "code",
   "execution_count": 249,
   "id": "alleged-ballot",
   "metadata": {},
   "outputs": [],
   "source": [
    "# rozstęp\n",
    "df1_diff = df1_max - df1_min\n",
    "df2_diff = df2_max - df2_min\n",
    "df3_diff = df3_max - df3_min\n",
    "df4_diff = df4_max - df4_min\n",
    "df5_diff = df5_max - df5_min"
   ]
  },
  {
   "cell_type": "code",
   "execution_count": 259,
   "id": "random-premises",
   "metadata": {},
   "outputs": [],
   "source": [
    "# korelacja\n",
    "\n",
    "list1 = df1[df1.columns[0]].tolist()\n",
    "list2 = df2[df2.columns[0]].tolist()\n",
    "list3 = df3[df3.columns[0]].tolist()\n",
    "list4 = df4[df4.columns[0]].tolist()\n",
    "list5 = df5[df5.columns[0]].tolist()\n",
    "list1 = list1[:16]\n",
    "list2 = list2[:16]\n",
    "list3 = list3[:16]\n",
    "list4 = list4[:16]\n",
    "list5 = list5[:16]\n",
    "\n",
    "dict_corr = {\n",
    "    'płaca min': list2,\n",
    "    'stopa bezrobocia': list1,\n",
    "    'paliwo' : list3,\n",
    "    'mieszkania': list4,\n",
    "    'ceny art.gosp.' : list5\n",
    "}\n",
    "df_corr = pd.DataFrame(dict_corr)"
   ]
  },
  {
   "cell_type": "code",
   "execution_count": 261,
   "id": "difficult-manchester",
   "metadata": {},
   "outputs": [
    {
     "data": {
      "text/html": [
       "<div>\n",
       "<style scoped>\n",
       "    .dataframe tbody tr th:only-of-type {\n",
       "        vertical-align: middle;\n",
       "    }\n",
       "\n",
       "    .dataframe tbody tr th {\n",
       "        vertical-align: top;\n",
       "    }\n",
       "\n",
       "    .dataframe thead th {\n",
       "        text-align: right;\n",
       "    }\n",
       "</style>\n",
       "<table border=\"1\" class=\"dataframe\">\n",
       "  <thead>\n",
       "    <tr style=\"text-align: right;\">\n",
       "      <th></th>\n",
       "      <th>płaca min</th>\n",
       "      <th>stopa bezrobocia</th>\n",
       "      <th>paliwo</th>\n",
       "      <th>mieszkania</th>\n",
       "      <th>ceny art.gosp.</th>\n",
       "    </tr>\n",
       "  </thead>\n",
       "  <tbody>\n",
       "    <tr>\n",
       "      <th>płaca min</th>\n",
       "      <td>1.000000</td>\n",
       "      <td>-0.890068</td>\n",
       "      <td>0.360225</td>\n",
       "      <td>-0.923746</td>\n",
       "      <td>-0.930881</td>\n",
       "    </tr>\n",
       "    <tr>\n",
       "      <th>stopa bezrobocia</th>\n",
       "      <td>-0.890068</td>\n",
       "      <td>1.000000</td>\n",
       "      <td>-0.434989</td>\n",
       "      <td>0.833878</td>\n",
       "      <td>0.862818</td>\n",
       "    </tr>\n",
       "    <tr>\n",
       "      <th>paliwo</th>\n",
       "      <td>0.360225</td>\n",
       "      <td>-0.434989</td>\n",
       "      <td>1.000000</td>\n",
       "      <td>-0.246888</td>\n",
       "      <td>-0.215915</td>\n",
       "    </tr>\n",
       "    <tr>\n",
       "      <th>mieszkania</th>\n",
       "      <td>-0.923746</td>\n",
       "      <td>0.833878</td>\n",
       "      <td>-0.246888</td>\n",
       "      <td>1.000000</td>\n",
       "      <td>0.842602</td>\n",
       "    </tr>\n",
       "    <tr>\n",
       "      <th>ceny art.gosp.</th>\n",
       "      <td>-0.930881</td>\n",
       "      <td>0.862818</td>\n",
       "      <td>-0.215915</td>\n",
       "      <td>0.842602</td>\n",
       "      <td>1.000000</td>\n",
       "    </tr>\n",
       "  </tbody>\n",
       "</table>\n",
       "</div>"
      ],
      "text/plain": [
       "                  płaca min  stopa bezrobocia    paliwo  mieszkania  \\\n",
       "płaca min          1.000000         -0.890068  0.360225   -0.923746   \n",
       "stopa bezrobocia  -0.890068          1.000000 -0.434989    0.833878   \n",
       "paliwo             0.360225         -0.434989  1.000000   -0.246888   \n",
       "mieszkania        -0.923746          0.833878 -0.246888    1.000000   \n",
       "ceny art.gosp.    -0.930881          0.862818 -0.215915    0.842602   \n",
       "\n",
       "                  ceny art.gosp.  \n",
       "płaca min              -0.930881  \n",
       "stopa bezrobocia        0.862818  \n",
       "paliwo                 -0.215915  \n",
       "mieszkania              0.842602  \n",
       "ceny art.gosp.          1.000000  "
      ]
     },
     "execution_count": 261,
     "metadata": {},
     "output_type": "execute_result"
    }
   ],
   "source": [
    "df_corr.corr()\n"
   ]
  },
  {
   "cell_type": "code",
   "execution_count": null,
   "id": "expanded-textbook",
   "metadata": {},
   "outputs": [],
   "source": []
  }
 ],
 "metadata": {
  "kernelspec": {
   "display_name": "Python 3",
   "language": "python",
   "name": "python3"
  },
  "language_info": {
   "codemirror_mode": {
    "name": "ipython",
    "version": 3
   },
   "file_extension": ".py",
   "mimetype": "text/x-python",
   "name": "python",
   "nbconvert_exporter": "python",
   "pygments_lexer": "ipython3",
   "version": "3.8.5"
  }
 },
 "nbformat": 4,
 "nbformat_minor": 5
}
